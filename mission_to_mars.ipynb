{
 "cells": [
  {
   "cell_type": "code",
   "execution_count": 14,
   "metadata": {},
   "outputs": [],
   "source": [
    "from splinter import Browser\n",
    "from bs4 import BeautifulSoup as bs\n",
    "import time"
   ]
  },
  {
   "cell_type": "code",
   "execution_count": 15,
   "metadata": {},
   "outputs": [],
   "source": [
    "#initialize browser to make this usable\n",
    "\n",
    "def init_browser():\n",
    "    # @NOTE: Replace the path with your actual path to the chromedriver\n",
    "    #for mac users\n",
    "    #executable_path = {\"executable_path\": \"/usr/local/bin/chromedriver\"}\n",
    "    #return Browser(\"chrome\", **executable_path, headless=False)\n",
    "    return Browser(\"chrome\", headless=False)"
   ]
  },
  {
   "cell_type": "code",
   "execution_count": 52,
   "metadata": {},
   "outputs": [],
   "source": [
    "def mars_title_par():\n",
    "    browser = init_browser()\n",
    "\n",
    "    browser = init_browser()\n",
    "\n",
    "        # Visit visitcostarica.herokuapp.com\n",
    "    url = \"https://mars.nasa.gov/news/?page=0&per_page=40&order=publish_date+desc%2Ccreated_at+desc&search=&category=19%2C165%2C184%2C204&blank_scope=Latest\"\n",
    "    browser.visit(url)\n",
    "\n",
    "        #if you need to give space\n",
    "        #time.sleep(1)\n",
    "\n",
    "        # Scrape page into Soup\n",
    "    html = browser.html\n",
    "    soup = bs(html, \"lxml\")\n",
    "\n",
    "        # Get the news title\n",
    "    stripped_title=[]\n",
    "    titles = soup.find_all('div', class_='content_title')\n",
    "    for title in titles:\n",
    "        stripped_title.append(title.text.strip())\n",
    "    latest_title = stripped_title[1]\n",
    "\n",
    "        # Get the news teaser\n",
    "    get_teaser = soup.find('div', class_='article_teaser_body') \n",
    "    latest_teaser = get_teaser.text"
   ]
  },
  {
   "cell_type": "code",
   "execution_count": 51,
   "metadata": {},
   "outputs": [
    {
     "name": "stdout",
     "output_type": "stream",
     "text": [
      "NASA's MAVEN Observes Martian Night Sky Pulsing in Ultraviolet Light\n",
      "Vast areas of the Martian night sky pulse in ultraviolet light, according to images from NASA’s MAVEN spacecraft. The results are being used to illuminate complex circulation patterns in the Martian atmosphere.\n"
     ]
    }
   ],
   "source": [
    "#NASA title\n",
    "\n",
    "\n",
    "\n",
    "print(latest_title)\n",
    "print(latest_teaser)\n"
   ]
  },
  {
   "cell_type": "code",
   "execution_count": 50,
   "metadata": {},
   "outputs": [
    {
     "data": {
      "text/plain": [
       "'Vast areas of the Martian night sky pulse in ultraviolet light, according to images from NASA’s MAVEN spacecraft. The results are being used to illuminate complex circulation patterns in the Martian atmosphere.'"
      ]
     },
     "execution_count": 50,
     "metadata": {},
     "output_type": "execute_result"
    }
   ],
   "source": [
    "\n"
   ]
  },
  {
   "cell_type": "code",
   "execution_count": 46,
   "metadata": {},
   "outputs": [
    {
     "data": {
      "text/plain": [
       "\"NASA's MAVEN Observes Martian Night Sky Pulsing in Ultraviolet Light\""
      ]
     },
     "execution_count": 46,
     "metadata": {},
     "output_type": "execute_result"
    }
   ],
   "source": []
  },
  {
   "cell_type": "code",
   "execution_count": null,
   "metadata": {},
   "outputs": [],
   "source": []
  }
 ],
 "metadata": {
  "kernelspec": {
   "display_name": "Python 3",
   "language": "python",
   "name": "python3"
  },
  "language_info": {
   "codemirror_mode": {
    "name": "ipython",
    "version": 3
   },
   "file_extension": ".py",
   "mimetype": "text/x-python",
   "name": "python",
   "nbconvert_exporter": "python",
   "pygments_lexer": "ipython3",
   "version": "3.7.4"
  }
 },
 "nbformat": 4,
 "nbformat_minor": 2
}
